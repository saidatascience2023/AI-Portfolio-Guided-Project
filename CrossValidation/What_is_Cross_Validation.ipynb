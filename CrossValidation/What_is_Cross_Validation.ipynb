{
  "nbformat": 4,
  "nbformat_minor": 0,
  "metadata": {
    "colab": {
      "provenance": []
    },
    "kernelspec": {
      "name": "python3",
      "display_name": "Python 3"
    },
    "language_info": {
      "name": "python"
    }
  },
  "cells": [
    {
      "cell_type": "markdown",
      "source": [
        "# Cross-Validation Explained with Student Exam Analogy | Machine Learning Made Easy"
      ],
      "metadata": {
        "id": "vr2JFbQ0fmf-"
      }
    },
    {
      "cell_type": "markdown",
      "source": [
        "**1. Train - Test Split Cross Validation**"
      ],
      "metadata": {
        "id": "w9QiXT_gnQxx"
      }
    },
    {
      "cell_type": "code",
      "source": [
        "import numpy as np\n",
        "from sklearn.model_selection import train_test_split\n",
        "from sklearn.ensemble import RandomForestClassifier\n",
        "from sklearn.metrics import accuracy_score\n",
        "from sklearn.datasets import make_classification\n",
        "import pandas as pd\n",
        "\n",
        "# Generate a synthetic classification dataset\n",
        "X, y = make_classification(n_samples=100, n_features=10, random_state=42)\n",
        "\n",
        "# Split the data into training and test sets (80% train, 20% test)\n",
        "X_train, X_test, y_train, y_test = train_test_split(X, y, test_size=0.2, random_state=42)\n",
        "\n",
        "# Initialize the Random Forest Classifier\n",
        "model = RandomForestClassifier(random_state=42)\n",
        "\n",
        "# Train the model on the training data\n",
        "model.fit(X_train, y_train)\n",
        "\n",
        "# Make predictions on the test data\n",
        "y_pred = model.predict(X_test)\n",
        "\n",
        "# Evaluate the model\n",
        "accuracy = accuracy_score(y_test, y_pred)\n",
        "print(f\"Accuracy on test data: {accuracy * 100:.2f}%\")\n"
      ],
      "metadata": {
        "colab": {
          "base_uri": "https://localhost:8080/"
        },
        "id": "PjPPx5-cnKAh",
        "outputId": "b30ef5c0-3ae9-4745-f952-81787150ded7"
      },
      "execution_count": null,
      "outputs": [
        {
          "output_type": "stream",
          "name": "stdout",
          "text": [
            "Accuracy on test data: 100.00%\n"
          ]
        }
      ]
    },
    {
      "cell_type": "markdown",
      "source": [
        "**2. K-Fold Cross Validation**\n",
        "\n",
        "1. Split data into k equal parts (folds)\n",
        "\n",
        "2. Train on k-1 folds, test on 1 fold\n",
        "\n",
        "3. Repeat k times, average results"
      ],
      "metadata": {
        "id": "s4yLiwSof9TT"
      }
    },
    {
      "cell_type": "code",
      "execution_count": null,
      "metadata": {
        "colab": {
          "base_uri": "https://localhost:8080/"
        },
        "id": "zf2c9Z05fjCC",
        "outputId": "be45dba1-2bc8-479c-bf77-62da944b8260"
      },
      "outputs": [
        {
          "output_type": "stream",
          "name": "stdout",
          "text": [
            "Best model is from Fold 1 with accuracy: 1.0000\n"
          ]
        }
      ],
      "source": [
        "from sklearn.datasets import load_iris\n",
        "from sklearn.model_selection import KFold\n",
        "from sklearn.ensemble import RandomForestClassifier\n",
        "from sklearn.metrics import accuracy_score\n",
        "import numpy as np\n",
        "\n",
        "# Load data\n",
        "X, y = load_iris(return_X_y=True)\n",
        "\n",
        "# Set up K-Fold\n",
        "kf = KFold(n_splits=5, shuffle=True, random_state=42)\n",
        "\n",
        "models = []\n",
        "scores = []\n",
        "\n",
        "# Loop through each fold\n",
        "for train_index, test_index in kf.split(X):\n",
        "    X_train, X_test = X[train_index], X[test_index]\n",
        "    y_train, y_test = y[train_index], y[test_index]\n",
        "\n",
        "    # Train model\n",
        "    model = RandomForestClassifier(random_state=42)\n",
        "    model.fit(X_train, y_train)\n",
        "\n",
        "    # Predict and evaluate\n",
        "    y_pred = model.predict(X_test)\n",
        "    acc = accuracy_score(y_test, y_pred)\n",
        "\n",
        "    models.append(model)\n",
        "    scores.append(acc)\n",
        "\n",
        "# Find the best score and corresponding model\n",
        "best_index = np.argmax(scores)\n",
        "best_model = models[best_index]\n",
        "\n",
        "print(f\"Best model is from Fold {best_index + 1} with accuracy: {scores[best_index]:.4f}\")\n",
        "\n"
      ]
    },
    {
      "cell_type": "markdown",
      "source": [
        "**3. Stratified K-Fold**\n",
        "\n",
        "1. Same as K-Fold, but ensures same class distribution in each fold.\n",
        "\n",
        "2. Best for classification problems with class imbalance."
      ],
      "metadata": {
        "id": "Rz_gHspag5As"
      }
    },
    {
      "cell_type": "code",
      "source": [
        "from sklearn.datasets import load_iris\n",
        "from sklearn.model_selection import StratifiedKFold\n",
        "from sklearn.ensemble import RandomForestClassifier\n",
        "from sklearn.metrics import accuracy_score\n",
        "import numpy as np\n",
        "\n",
        "# Load data\n",
        "X, y = load_iris(return_X_y=True)\n",
        "\n",
        "# Set up Stratified K-Fold\n",
        "skf = StratifiedKFold(n_splits=5, shuffle=True, random_state=42)\n",
        "\n",
        "models = []\n",
        "scores = []\n",
        "\n",
        "# Loop through each fold\n",
        "for train_index, test_index in skf.split(X, y):\n",
        "    X_train, X_test = X[train_index], X[test_index]\n",
        "    y_train, y_test = y[train_index], y[test_index]\n",
        "\n",
        "    # Train model\n",
        "    model = RandomForestClassifier(random_state=42)\n",
        "    model.fit(X_train, y_train)\n",
        "\n",
        "    # Predict and evaluate\n",
        "    y_pred = model.predict(X_test)\n",
        "    acc = accuracy_score(y_test, y_pred)\n",
        "\n",
        "    models.append(model)\n",
        "    scores.append(acc)\n",
        "\n",
        "# Find the best score and corresponding model\n",
        "best_index = np.argmax(scores)\n",
        "best_model = models[best_index]\n",
        "\n",
        "print(f\"Best model is from Fold {best_index + 1} with accuracy: {scores[best_index]:.4f}\")\n"
      ],
      "metadata": {
        "colab": {
          "base_uri": "https://localhost:8080/"
        },
        "id": "w3MTkRLNgzMM",
        "outputId": "9e4229c5-11fa-4acc-ad77-f52b73751894"
      },
      "execution_count": null,
      "outputs": [
        {
          "output_type": "stream",
          "name": "stdout",
          "text": [
            "Best model is from Fold 1 with accuracy: 0.9667\n"
          ]
        }
      ]
    },
    {
      "cell_type": "markdown",
      "source": [
        "**4. Leave-One-Out CV (LOOCV)**\n",
        "\n",
        "1. Extreme case of K-Fold where k = number of data points\n",
        "\n",
        "2. Train on all data except 1 sample; repeat for every sample\n",
        "\n",
        "3. Not practical for large datasets (very slow), but very thorough"
      ],
      "metadata": {
        "id": "_a7J4vDfhGOU"
      }
    },
    {
      "cell_type": "code",
      "source": [
        "from sklearn.datasets import make_classification\n",
        "from sklearn.model_selection import LeaveOneOut, cross_val_score\n",
        "from sklearn.ensemble import RandomForestClassifier\n",
        "import numpy as np\n",
        "\n",
        "# Generate a small random dataset for demonstration\n",
        "X, y = make_classification(\n",
        "    n_samples=30,        # Small size since LOOCV is slow for big data\n",
        "    n_features=5,\n",
        "    n_informative=3,\n",
        "    n_redundant=0,\n",
        "    n_classes=2,\n",
        "    random_state=42\n",
        ")\n",
        "\n",
        "# Initialize the model\n",
        "model = RandomForestClassifier(random_state=42)\n",
        "\n",
        "# Set up Leave-One-Out cross-validation\n",
        "loo = LeaveOneOut()\n",
        "\n",
        "# Evaluate using LOOCV\n",
        "scores = cross_val_score(model, X, y, cv=loo, scoring='accuracy')\n",
        "\n",
        "# Output results\n",
        "print(\"Number of LOOCV iterations:\", len(scores))\n",
        "print(\"LOOCV Accuracy for each iteration:\", scores)\n",
        "print(\"Average LOOCV Accuracy:\", np.mean(scores))\n"
      ],
      "metadata": {
        "colab": {
          "base_uri": "https://localhost:8080/"
        },
        "id": "zqebn5j2hBlP",
        "outputId": "11ade431-0831-45e3-cb63-16e6d06b7d2c"
      },
      "execution_count": null,
      "outputs": [
        {
          "output_type": "stream",
          "name": "stdout",
          "text": [
            "Number of LOOCV iterations: 30\n",
            "LOOCV Accuracy for each iteration: [0. 1. 1. 1. 1. 0. 1. 1. 0. 1. 1. 0. 1. 0. 1. 1. 1. 1. 1. 1. 1. 1. 1. 1.\n",
            " 0. 1. 1. 1. 1. 1.]\n",
            "Average LOOCV Accuracy: 0.8\n"
          ]
        }
      ]
    },
    {
      "cell_type": "markdown",
      "source": [
        "**5. TimeSeriesSplit**\n",
        "\n",
        "1. Use for time-dependent data (like stock prices)\n",
        "\n",
        "2. Ensures training data is always earlier than test data\n",
        "\n"
      ],
      "metadata": {
        "id": "3LBbbgIYhfGq"
      }
    },
    {
      "cell_type": "code",
      "source": [
        "from sklearn.model_selection import TimeSeriesSplit\n",
        "\n",
        "tscv = TimeSeriesSplit(n_splits=5)\n",
        "for train_index, test_index in tscv.split(X):\n",
        "    print(\"Train:\", train_index, \"Test:\", test_index)\n"
      ],
      "metadata": {
        "colab": {
          "base_uri": "https://localhost:8080/"
        },
        "id": "AOACGSHFhjed",
        "outputId": "45d53a3e-950f-45ee-8718-78dfe2b2800e"
      },
      "execution_count": null,
      "outputs": [
        {
          "output_type": "stream",
          "name": "stdout",
          "text": [
            "Train: [0 1 2 3 4] Test: [5 6 7 8 9]\n",
            "Train: [0 1 2 3 4 5 6 7 8 9] Test: [10 11 12 13 14]\n",
            "Train: [ 0  1  2  3  4  5  6  7  8  9 10 11 12 13 14] Test: [15 16 17 18 19]\n",
            "Train: [ 0  1  2  3  4  5  6  7  8  9 10 11 12 13 14 15 16 17 18 19] Test: [20 21 22 23 24]\n",
            "Train: [ 0  1  2  3  4  5  6  7  8  9 10 11 12 13 14 15 16 17 18 19 20 21 22 23\n",
            " 24] Test: [25 26 27 28 29]\n"
          ]
        }
      ]
    },
    {
      "cell_type": "code",
      "source": [
        "import numpy as np\n",
        "from sklearn.model_selection import TimeSeriesSplit\n",
        "from sklearn.ensemble import RandomForestClassifier\n",
        "from sklearn.metrics import accuracy_score\n",
        "\n",
        "# Create a synthetic time-series dataset (10 data points, 1 feature)\n",
        "X = np.random.rand(10, 1)\n",
        "y = np.array([0, 1, 0, 1, 0, 1, 0, 1, 0, 1])  # Alternating 0s and 1s\n",
        "\n",
        "# Initialize TimeSeriesSplit with 5 splits\n",
        "tscv = TimeSeriesSplit(n_splits=5)\n",
        "\n",
        "# Initialize the model\n",
        "model = RandomForestClassifier(random_state=42)\n",
        "\n",
        "# Loop over each split and train/test the model\n",
        "for train_index, test_index in tscv.split(X):\n",
        "    X_train, X_test = X[train_index], X[test_index]\n",
        "    y_train, y_test = y[train_index], y[test_index]\n",
        "\n",
        "    # Train the model\n",
        "    model.fit(X_train, y_train)\n",
        "\n",
        "    # Make predictions\n",
        "    y_pred = model.predict(X_test)\n",
        "\n",
        "    # Evaluate performance\n",
        "    accuracy = accuracy_score(y_test, y_pred)\n",
        "    print(f\"Test indices: {test_index}, Accuracy: {accuracy:.2f}\")\n"
      ],
      "metadata": {
        "id": "-Aj_niJuos8r",
        "outputId": "9ca3c791-db70-4c82-b24c-5622be346bc1",
        "colab": {
          "base_uri": "https://localhost:8080/"
        }
      },
      "execution_count": null,
      "outputs": [
        {
          "output_type": "stream",
          "name": "stdout",
          "text": [
            "Test indices: [5], Accuracy: 0.00\n",
            "Test indices: [6], Accuracy: 0.00\n",
            "Test indices: [7], Accuracy: 0.00\n",
            "Test indices: [8], Accuracy: 0.00\n",
            "Test indices: [9], Accuracy: 1.00\n"
          ]
        }
      ]
    }
  ]
}